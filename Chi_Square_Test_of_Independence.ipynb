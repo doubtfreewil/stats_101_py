{
 "cells": [
  {
   "cell_type": "markdown",
   "metadata": {},
   "source": [
    "## Chi Square Test of Independence "
   ]
  },
  {
   "cell_type": "markdown",
   "metadata": {},
   "source": [
    "Problem: A Professor Complains that students' teacher ratings depend on the grade a students receive.\n",
    "To test this claim, the Student Assembly took a random sample of 300 teacher ratings on which the students'\n",
    "grades for the course also were indicated. The results are given in the following table. Test the hypothesis\n",
    "that teacher ratings and student grades are independent at the 1% significance level."
   ]
  },
  {
   "cell_type": "markdown",
   "metadata": {},
   "source": [
    "|Rating  | A | B | C | F |\n",
    "|---------|----|----|----|----| \n",
    "|Excellent | 14 | 18 | 15 | 3 |\n",
    "|Average | 25 | 35 | 75 | 15 |\n",
    "|Poor | 21 | 27 | 40 | 12 |"
   ]
  },
  {
   "cell_type": "markdown",
   "metadata": {},
   "source": [
    "## Hypothesis\n",
    "H_0: Teacher rating and student grades are independent.\\\n",
    "H_1: Teacher ratings are dependent on student grades."
   ]
  },
  {
   "cell_type": "code",
   "execution_count": 168,
   "metadata": {},
   "outputs": [],
   "source": [
    "import numpy as np\n",
    "import pandas as pd\n",
    "import sympy as sym\n",
    "from IPython.display import Math,display\n",
    "from scipy import stats"
   ]
  },
  {
   "cell_type": "code",
   "execution_count": null,
   "metadata": {},
   "outputs": [],
   "source": []
  },
  {
   "cell_type": "code",
   "execution_count": 169,
   "metadata": {},
   "outputs": [],
   "source": [
    "#first re-create the table from your table:\n",
    "#enter data \n",
    "a1 = [14,18,15,3]\n",
    "a2 = [25,35,75,15]\n",
    "a3 = [21,27,40,12]"
   ]
  },
  {
   "cell_type": "code",
   "execution_count": 170,
   "metadata": {},
   "outputs": [],
   "source": [
    "data = np.array([a1,a2,a3])#define the array\n",
    "df = pd.DataFrame(data,['Excellent','Average','Poor'],['A','B','C','F']) # format the dataframe"
   ]
  },
  {
   "cell_type": "code",
   "execution_count": 171,
   "metadata": {},
   "outputs": [
    {
     "name": "stdout",
     "output_type": "stream",
     "text": [
      "            A   B   C   F\n",
      "Excellent  14  18  15   3\n",
      "Average    25  35  75  15\n",
      "Poor       21  27  40  12\n"
     ]
    }
   ],
   "source": [
    "print(df) # display the dataframe "
   ]
  },
  {
   "cell_type": "code",
   "execution_count": 172,
   "metadata": {},
   "outputs": [],
   "source": [
    "#now define variables\n",
    "n = 300 # from problem\n",
    "r_e_t = sum(df.loc['Excellent'])#row total for excellent\n",
    "r_a_t = sum(df.loc['Average'])#row total for average\n",
    "r_p_t = sum(df.loc['Poor'])#row total for poor\n",
    "c_A_t = sum(df['A'])#column total for A\n",
    "c_B_t = sum(df['B'])#column total for B\n",
    "c_C_t = sum(df['C'])#column total for C\n",
    "c_F_t = sum(df['F'])#column total for F\n",
    "num_R = len(df['A'])#number of rows\n",
    "num_C = len(df.loc['Poor'])#number of columns"
   ]
  },
  {
   "cell_type": "code",
   "execution_count": 173,
   "metadata": {},
   "outputs": [],
   "source": [
    "#define observed values as 'o'\n",
    "o = [(a1[0]),(a1[1]),(a1[2]),(a1[3]),(a2[0]),(a2[1]),(a2[2]),(a2[3]),(a3[0]),(a3[1]),(a3[2]),(a3[3])]"
   ]
  },
  {
   "cell_type": "markdown",
   "metadata": {},
   "source": [
    "The formula for the the expected value E is:\n",
    "$$\\ E = \\frac{R \\times C}{n}$$"
   ]
  },
  {
   "cell_type": "code",
   "execution_count": 174,
   "metadata": {},
   "outputs": [],
   "source": [
    "#define expected values for each observed value as 'e'\n",
    "e = [(r_e_t*c_A_t/n),(r_e_t*c_B_t/n),(r_e_t*c_C_t/n),(r_e_t*c_F_t/n),(r_a_t*c_A_t/n),(r_a_t*c_B_t/n),(r_a_t*c_C_t/n),(r_a_t*c_F_t/n),(r_p_t*c_A_t/n),(r_p_t*c_B_t/n),(r_p_t*c_C_t/n),(r_p_t*c_F_t/n)]"
   ]
  },
  {
   "cell_type": "code",
   "execution_count": 175,
   "metadata": {},
   "outputs": [
    {
     "data": {
      "text/html": [
       "<div>\n",
       "<style scoped>\n",
       "    .dataframe tbody tr th:only-of-type {\n",
       "        vertical-align: middle;\n",
       "    }\n",
       "\n",
       "    .dataframe tbody tr th {\n",
       "        vertical-align: top;\n",
       "    }\n",
       "\n",
       "    .dataframe thead th {\n",
       "        text-align: right;\n",
       "    }\n",
       "</style>\n",
       "<table border=\"1\" class=\"dataframe\">\n",
       "  <thead>\n",
       "    <tr style=\"text-align: right;\">\n",
       "      <th></th>\n",
       "      <th>1</th>\n",
       "      <th>2</th>\n",
       "      <th>3</th>\n",
       "      <th>4</th>\n",
       "      <th>5</th>\n",
       "      <th>6</th>\n",
       "      <th>7</th>\n",
       "      <th>8</th>\n",
       "      <th>9</th>\n",
       "      <th>10</th>\n",
       "      <th>11</th>\n",
       "      <th>12</th>\n",
       "    </tr>\n",
       "  </thead>\n",
       "  <tbody>\n",
       "    <tr>\n",
       "      <th>observed</th>\n",
       "      <td>14.0</td>\n",
       "      <td>18.000000</td>\n",
       "      <td>15.000000</td>\n",
       "      <td>3.0</td>\n",
       "      <td>25.0</td>\n",
       "      <td>35.0</td>\n",
       "      <td>75.0</td>\n",
       "      <td>15.0</td>\n",
       "      <td>21.0</td>\n",
       "      <td>27.000000</td>\n",
       "      <td>40.000000</td>\n",
       "      <td>12.0</td>\n",
       "    </tr>\n",
       "    <tr>\n",
       "      <th>expected</th>\n",
       "      <td>10.0</td>\n",
       "      <td>13.333333</td>\n",
       "      <td>21.666667</td>\n",
       "      <td>5.0</td>\n",
       "      <td>30.0</td>\n",
       "      <td>40.0</td>\n",
       "      <td>65.0</td>\n",
       "      <td>15.0</td>\n",
       "      <td>20.0</td>\n",
       "      <td>26.666667</td>\n",
       "      <td>43.333333</td>\n",
       "      <td>10.0</td>\n",
       "    </tr>\n",
       "  </tbody>\n",
       "</table>\n",
       "</div>"
      ],
      "text/plain": [
       "             1          2          3    4     5     6     7     8     9  \\\n",
       "observed  14.0  18.000000  15.000000  3.0  25.0  35.0  75.0  15.0  21.0   \n",
       "expected  10.0  13.333333  21.666667  5.0  30.0  40.0  65.0  15.0  20.0   \n",
       "\n",
       "                 10         11    12  \n",
       "observed  27.000000  40.000000  12.0  \n",
       "expected  26.666667  43.333333  10.0  "
      ]
     },
     "execution_count": 175,
     "metadata": {},
     "output_type": "execute_result"
    }
   ],
   "source": [
    "# create the table to calculate chi sq stats \n",
    "table = np.array([o,e])\n",
    "df2 = pd.DataFrame(table,['observed','expected'],['1','2','3','4','5','6','7','8','9','10','11','12'])\n",
    "df2"
   ]
  },
  {
   "cell_type": "markdown",
   "metadata": {},
   "source": [
    "### The formula for the test statistic for the independence of two variables is:\n",
    "\n",
    "\n",
    "$$\\chi^2 = \\sum \\frac{(o-e)^2}{e}$$"
   ]
  },
  {
   "cell_type": "markdown",
   "metadata": {},
   "source": [
    "First we need to calculate the residual: $$\\frac{(o-e)^2}{e}$$\n",
    "for each column"
   ]
  },
  {
   "cell_type": "code",
   "execution_count": 176,
   "metadata": {},
   "outputs": [
    {
     "data": {
      "text/html": [
       "<div>\n",
       "<style scoped>\n",
       "    .dataframe tbody tr th:only-of-type {\n",
       "        vertical-align: middle;\n",
       "    }\n",
       "\n",
       "    .dataframe tbody tr th {\n",
       "        vertical-align: top;\n",
       "    }\n",
       "\n",
       "    .dataframe thead th {\n",
       "        text-align: right;\n",
       "    }\n",
       "</style>\n",
       "<table border=\"1\" class=\"dataframe\">\n",
       "  <thead>\n",
       "    <tr style=\"text-align: right;\">\n",
       "      <th></th>\n",
       "      <th>1</th>\n",
       "      <th>2</th>\n",
       "      <th>3</th>\n",
       "      <th>4</th>\n",
       "      <th>5</th>\n",
       "      <th>6</th>\n",
       "      <th>7</th>\n",
       "      <th>8</th>\n",
       "      <th>9</th>\n",
       "      <th>10</th>\n",
       "      <th>11</th>\n",
       "      <th>12</th>\n",
       "    </tr>\n",
       "  </thead>\n",
       "  <tbody>\n",
       "    <tr>\n",
       "      <th>observed</th>\n",
       "      <td>14.0</td>\n",
       "      <td>18.000000</td>\n",
       "      <td>15.000000</td>\n",
       "      <td>3.0</td>\n",
       "      <td>25.000000</td>\n",
       "      <td>35.000</td>\n",
       "      <td>75.000000</td>\n",
       "      <td>15.0</td>\n",
       "      <td>21.00</td>\n",
       "      <td>27.000000</td>\n",
       "      <td>40.000000</td>\n",
       "      <td>12.0</td>\n",
       "    </tr>\n",
       "    <tr>\n",
       "      <th>expected</th>\n",
       "      <td>10.0</td>\n",
       "      <td>13.333333</td>\n",
       "      <td>21.666667</td>\n",
       "      <td>5.0</td>\n",
       "      <td>30.000000</td>\n",
       "      <td>40.000</td>\n",
       "      <td>65.000000</td>\n",
       "      <td>15.0</td>\n",
       "      <td>20.00</td>\n",
       "      <td>26.666667</td>\n",
       "      <td>43.333333</td>\n",
       "      <td>10.0</td>\n",
       "    </tr>\n",
       "    <tr>\n",
       "      <th>residual</th>\n",
       "      <td>1.6</td>\n",
       "      <td>1.633333</td>\n",
       "      <td>2.051282</td>\n",
       "      <td>0.8</td>\n",
       "      <td>0.833333</td>\n",
       "      <td>0.625</td>\n",
       "      <td>1.538462</td>\n",
       "      <td>0.0</td>\n",
       "      <td>0.05</td>\n",
       "      <td>0.004167</td>\n",
       "      <td>0.256410</td>\n",
       "      <td>0.4</td>\n",
       "    </tr>\n",
       "  </tbody>\n",
       "</table>\n",
       "</div>"
      ],
      "text/plain": [
       "             1          2          3    4          5       6          7     8  \\\n",
       "observed  14.0  18.000000  15.000000  3.0  25.000000  35.000  75.000000  15.0   \n",
       "expected  10.0  13.333333  21.666667  5.0  30.000000  40.000  65.000000  15.0   \n",
       "residual   1.6   1.633333   2.051282  0.8   0.833333   0.625   1.538462   0.0   \n",
       "\n",
       "              9         10         11    12  \n",
       "observed  21.00  27.000000  40.000000  12.0  \n",
       "expected  20.00  26.666667  43.333333  10.0  \n",
       "residual   0.05   0.004167   0.256410   0.4  "
      ]
     },
     "execution_count": 176,
     "metadata": {},
     "output_type": "execute_result"
    }
   ],
   "source": [
    "#calculate the residual and add the values to the table then display the table again\n",
    "df2.loc['residual'] = ((df2.loc['observed']-df2.loc['expected'])**2)/df2.loc['expected']\n",
    "df2\n",
    "# df2 = df2.drop(\"pick a row\", axis=0) -- use if you need to drop a row added by accident"
   ]
  },
  {
   "cell_type": "markdown",
   "metadata": {},
   "source": [
    "Now we calculate take the sum of the row chi_sqd to get \n",
    "$$\\chi^2$$\n"
   ]
  },
  {
   "cell_type": "code",
   "execution_count": 177,
   "metadata": {},
   "outputs": [
    {
     "data": {
      "text/latex": [
       "$\\displaystyle \\chi^2 = 9.791987179487181$"
      ],
      "text/plain": [
       "<IPython.core.display.Math object>"
      ]
     },
     "metadata": {},
     "output_type": "display_data"
    }
   ],
   "source": [
    "css = sum(df2.loc['residual'])\n",
    "display(Math('\\\\chi^2 = %s'%(css)))"
   ]
  },
  {
   "cell_type": "markdown",
   "metadata": {},
   "source": [
    "### The formula for degrees of freedom of a Chi Square test is:\n",
    "\n",
    "\n",
    "$$ df = (R-1)(C-1)\\text { where } R = \\text{ number of rows and } C = \\text{ number of columns.}$$ \n"
   ]
  },
  {
   "cell_type": "code",
   "execution_count": 178,
   "metadata": {},
   "outputs": [
    {
     "data": {
      "text/latex": [
       "$\\displaystyle df = 6$"
      ],
      "text/plain": [
       "<IPython.core.display.Math object>"
      ]
     },
     "metadata": {},
     "output_type": "display_data"
    }
   ],
   "source": [
    "df = (num_R - 1) * (num_C - 1)\n",
    "display(Math('df = %g'%(df)))"
   ]
  },
  {
   "cell_type": "code",
   "execution_count": 186,
   "metadata": {},
   "outputs": [
    {
     "name": "stdout",
     "output_type": "stream",
     "text": [
      "Enter the signifigance level from problem as a decimal:.01\n"
     ]
    },
    {
     "data": {
      "text/latex": [
       "$\\displaystyle \\alpha = .01$"
      ],
      "text/plain": [
       "<IPython.core.display.Math object>"
      ]
     },
     "metadata": {},
     "output_type": "display_data"
    }
   ],
   "source": [
    "#now enter alpha from your problem (signifigance level)\n",
    "alpha = input('Enter the signifigance level from problem as a decimal:')\n",
    "display(Math('\\\\alpha = %s'%(alpha)))"
   ]
  },
  {
   "cell_type": "code",
   "execution_count": 187,
   "metadata": {},
   "outputs": [],
   "source": [
    "#now calculate the p-value of a chi square test for the calculated statistic and degree of freedom"
   ]
  },
  {
   "cell_type": "code",
   "execution_count": 188,
   "metadata": {},
   "outputs": [
    {
     "data": {
      "text/latex": [
       "$\\displaystyle \\text {p-value} = 0.13368965273402839$"
      ],
      "text/plain": [
       "<IPython.core.display.Math object>"
      ]
     },
     "metadata": {},
     "output_type": "display_data"
    }
   ],
   "source": [
    "p_value = stats.chi2.sf(css,df)\n",
    "display(Math('\\\\text {p-value} = %s'%(p_value)))"
   ]
  },
  {
   "cell_type": "code",
   "execution_count": 191,
   "metadata": {},
   "outputs": [
    {
     "name": "stdout",
     "output_type": "stream",
     "text": [
      "We cannot reject the null hypothesis. There is insufficient evidence at the 1% signifigance level\n",
      "to support the professors claim that teacher ratings are dependent on grades.\n"
     ]
    }
   ],
   "source": [
    "if float(p_value) > float(alpha):\n",
    "    print('We cannot reject the null hypothesis. There is insufficient evidence at the 1% signifigance level\\nto support the professors claim that teacher ratings are dependent on grades.')\n",
    "else:\n",
    "    print('We must reject the null hypothesis. There is sufficient evidence at the 1% signifigance level to support the teachers claim.')"
   ]
  },
  {
   "cell_type": "code",
   "execution_count": 163,
   "metadata": {},
   "outputs": [],
   "source": [
    "# if you are thinking there must be a better way, you are correct. Here is the shortcut: \n",
    "# the first number is the chi squared stat, the second number is the p-value and the third number is the df\n",
    "# the array is a matric of expected values that corresponds to the array of observed values. "
   ]
  },
  {
   "cell_type": "code",
   "execution_count": 164,
   "metadata": {},
   "outputs": [],
   "source": [
    "answer = stats.chi2_contingency(data)"
   ]
  },
  {
   "cell_type": "code",
   "execution_count": 165,
   "metadata": {},
   "outputs": [
    {
     "data": {
      "text/plain": [
       "[9.791987179487181,\n",
       " 0.13368965273402839,\n",
       " 6,\n",
       " array([[10.        , 13.33333333, 21.66666667,  5.        ],\n",
       "        [30.        , 40.        , 65.        , 15.        ],\n",
       "        [20.        , 26.66666667, 43.33333333, 10.        ]])]"
      ]
     },
     "metadata": {},
     "output_type": "display_data"
    }
   ],
   "source": [
    "display(list(answer))"
   ]
  },
  {
   "cell_type": "code",
   "execution_count": 166,
   "metadata": {},
   "outputs": [
    {
     "data": {
      "text/latex": [
       "$\\displaystyle \\chi^2 = 9.791987179487181$"
      ],
      "text/plain": [
       "<IPython.core.display.Math object>"
      ]
     },
     "metadata": {},
     "output_type": "display_data"
    },
    {
     "data": {
      "text/latex": [
       "$\\displaystyle \\text{p} = 0.13368965273402839$"
      ],
      "text/plain": [
       "<IPython.core.display.Math object>"
      ]
     },
     "metadata": {},
     "output_type": "display_data"
    },
    {
     "data": {
      "text/latex": [
       "$\\displaystyle \\ df = 6$"
      ],
      "text/plain": [
       "<IPython.core.display.Math object>"
      ]
     },
     "metadata": {},
     "output_type": "display_data"
    }
   ],
   "source": [
    "display(Math('\\\\chi^2 = {}'.format(list(answer)[0])))\n",
    "display(Math('\\\\text{p} = %s'%(list(answer)[1])))\n",
    "display(Math('\\\\ df = %s'%(list(answer)[2])))\n",
    "#display(Math('\\\\text {The Expected Values} = %s'%((list(answer)[3]))))"
   ]
  }
 ],
 "metadata": {
  "kernelspec": {
   "display_name": "Python 3",
   "language": "python",
   "name": "python3"
  },
  "language_info": {
   "codemirror_mode": {
    "name": "ipython",
    "version": 3
   },
   "file_extension": ".py",
   "mimetype": "text/x-python",
   "name": "python",
   "nbconvert_exporter": "python",
   "pygments_lexer": "ipython3",
   "version": "3.7.6"
  }
 },
 "nbformat": 4,
 "nbformat_minor": 4
}
