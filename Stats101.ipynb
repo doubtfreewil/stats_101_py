{
 "cells": [
  {
   "cell_type": "code",
   "execution_count": null,
   "metadata": {},
   "outputs": [],
   "source": [
    "#correlation coefficient calculator WORKS! \n",
    "#maybe try to allow for user xy values and varying len"
   ]
  },
  {
   "cell_type": "code",
   "execution_count": 2,
   "metadata": {},
   "outputs": [],
   "source": [
    "import numpy as np\n",
    "import pandas as pd"
   ]
  },
  {
   "cell_type": "code",
   "execution_count": 3,
   "metadata": {},
   "outputs": [],
   "source": [
    "#working dataframe structure for random # df = pd.DataFrame(np.random.randn(8,2),['1','2','3','4','5','6','7','8'],['X','Y'])"
   ]
  },
  {
   "cell_type": "code",
   "execution_count": 162,
   "metadata": {},
   "outputs": [],
   "source": [
    "#input table from your question as [x1,y1],[x2,y2], ... this is set up for 8 x,y pairs add or subtract as needed\n",
    "#data1 = ([2,34.03],[3,28.74],[4,30.35],[5,27.06],[6,25.67],[7,24.18],[8,22.59],[9,19.9])\n",
    "#if you changed the number of data pairs above don't forget to update the index here to match ...\n",
    "#df2 = pd.DataFrame(data1,['1','2','3','4','5','6','7','8'],['X','Y'])"
   ]
  },
  {
   "cell_type": "code",
   "execution_count": 190,
   "metadata": {},
   "outputs": [],
   "source": [
    "#input table from your question as [x1,y1],[x2,y2], ... this is set up for 8 x,y pairs add or subtract as needed\n",
    "#data1 = ([2,17.5],[3,16.08],[4,15.06],[5,12.44],[6,15.52],[7,13])\n",
    "#if you changed the number of data pairs above don't forget to update the index here to match ...\n",
    "#df2 = pd.DataFrame(data1,['1','2','3','4','5','6'],['X','Y'])"
   ]
  },
  {
   "cell_type": "code",
   "execution_count": 191,
   "metadata": {},
   "outputs": [],
   "source": [
    "#input table from your question as [x1,y1],[x2,y2], ... this is set up for 8 x,y pairs add or subtract as needed\n",
    "data1 = ([4,13],[6,17],[7,17])\n",
    "#if you changed the number of data pairs above don't forget to update the index here to match ...\n",
    "df2 = pd.DataFrame(data1,['1','2','3'],['X','Y'])"
   ]
  },
  {
   "cell_type": "code",
   "execution_count": 192,
   "metadata": {},
   "outputs": [],
   "source": [
    "df2['X_SQD'] = df2['X']**2\n",
    "df2['Y_SQD'] = df2['Y']**2\n",
    "df2['XY'] = df2['X']*df2['Y']"
   ]
  },
  {
   "cell_type": "code",
   "execution_count": 193,
   "metadata": {},
   "outputs": [
    {
     "name": "stdout",
     "output_type": "stream",
     "text": [
      "   X   Y  X_SQD  Y_SQD   XY\n",
      "1  4  13     16    169   52\n",
      "2  6  17     36    289  102\n",
      "3  7  17     49    289  119\n"
     ]
    }
   ],
   "source": [
    "print(df2)"
   ]
  },
  {
   "cell_type": "code",
   "execution_count": 194,
   "metadata": {},
   "outputs": [],
   "source": [
    "n = len(df2['X'])\n",
    "sum_X = sum(df2['X'])\n",
    "sum_Y = sum(df2['Y'])\n",
    "sum_X_SQD = sum(df2['X_SQD'])\n",
    "sum_Y_SQD = sum(df2['Y_SQD'])\n",
    "sum_XY = sum(df2['XY'])\n",
    "mean_X = sum(df2['X'])/n\n",
    "mean_Y = sum(df2['Y'])/n"
   ]
  },
  {
   "cell_type": "code",
   "execution_count": 195,
   "metadata": {},
   "outputs": [],
   "source": [
    "## don't need this here bu it does work: sum_5 = sum(df.loc['5'])"
   ]
  },
  {
   "cell_type": "code",
   "execution_count": null,
   "metadata": {},
   "outputs": [],
   "source": []
  },
  {
   "cell_type": "code",
   "execution_count": 196,
   "metadata": {},
   "outputs": [
    {
     "name": "stdout",
     "output_type": "stream",
     "text": [
      "n = 3\n",
      "sum of x = 17\n",
      "sum of y = 47\n",
      "sum of x sqd = 101\n",
      "sum of y sqd = 747\n",
      "sum of xy = 273\n",
      "mean of x = 5.666666666666667\n",
      "mean of y = 15.666666666666666\n"
     ]
    }
   ],
   "source": [
    "print(('n ='),n)\n",
    "print(('sum of x ='),sum_X)\n",
    "print(('sum of y ='),sum_Y)\n",
    "print(('sum of x sqd ='),sum_X_SQD)\n",
    "print(('sum of y sqd ='),sum_Y_SQD)\n",
    "print(('sum of xy ='),sum_XY)\n",
    "print(('mean of x ='),mean_X)\n",
    "print(('mean of y ='),mean_Y)"
   ]
  },
  {
   "cell_type": "markdown",
   "metadata": {},
   "source": [
    "Calculate r:"
   ]
  },
  {
   "cell_type": "code",
   "execution_count": 197,
   "metadata": {},
   "outputs": [],
   "source": [
    "numerator = (n*sum_XY) - (sum_X * sum_Y)"
   ]
  },
  {
   "cell_type": "code",
   "execution_count": 198,
   "metadata": {},
   "outputs": [],
   "source": [
    "denominator = np.sqrt(((n * sum_X_SQD) - (sum_X**2))*((n * sum_Y_SQD)- (sum_Y**2)))"
   ]
  },
  {
   "cell_type": "code",
   "execution_count": 199,
   "metadata": {},
   "outputs": [],
   "source": [
    "r = numerator/denominator"
   ]
  },
  {
   "cell_type": "code",
   "execution_count": 200,
   "metadata": {},
   "outputs": [
    {
     "name": "stdout",
     "output_type": "stream",
     "text": [
      "r = 0.944911182523068\n"
     ]
    }
   ],
   "source": [
    "print('r =',r)"
   ]
  },
  {
   "cell_type": "markdown",
   "metadata": {},
   "source": [
    "Calculate slope of least squares regression line:"
   ]
  },
  {
   "cell_type": "code",
   "execution_count": 201,
   "metadata": {},
   "outputs": [],
   "source": [
    "SSxy = (sum_XY-(1/n *(sum_X * sum_Y)))"
   ]
  },
  {
   "cell_type": "code",
   "execution_count": 202,
   "metadata": {},
   "outputs": [],
   "source": [
    "SSxx = (sum_X_SQD) - (1/n *(sum_X**2)) # "
   ]
  },
  {
   "cell_type": "code",
   "execution_count": 203,
   "metadata": {},
   "outputs": [
    {
     "name": "stdout",
     "output_type": "stream",
     "text": [
      "SSxy =  6.666666666666686\n",
      "SSxx =  4.666666666666671\n"
     ]
    }
   ],
   "source": [
    "print('SSxy = ',SSxy)\n",
    "print('SSxx = ',SSxx)"
   ]
  },
  {
   "cell_type": "code",
   "execution_count": 204,
   "metadata": {},
   "outputs": [
    {
     "name": "stdout",
     "output_type": "stream",
     "text": [
      "slope =  1.4285714285714313\n"
     ]
    }
   ],
   "source": [
    "slope = SSxy/SSxx\n",
    "print('slope = ',slope)"
   ]
  },
  {
   "cell_type": "code",
   "execution_count": 205,
   "metadata": {},
   "outputs": [
    {
     "name": "stdout",
     "output_type": "stream",
     "text": [
      "Y intercept = 7.571428571428555\n"
     ]
    }
   ],
   "source": [
    "y_int = mean_Y - (slope * mean_X)\n",
    "print('Y intercept =',y_int)"
   ]
  },
  {
   "cell_type": "code",
   "execution_count": 206,
   "metadata": {},
   "outputs": [
    {
     "data": {
      "text/plain": [
       "\"\\nThings to work on \\n1. Import display properly and show the line nicely. \\n2. Define SSxy and SSxx. \\n3. Try to append sum's into dataframe.\\n4. summarize code below to publish\\n\\n\""
      ]
     },
     "execution_count": 206,
     "metadata": {},
     "output_type": "execute_result"
    }
   ],
   "source": [
    "\"\"\"\n",
    "Things to work on \n",
    "1. Import display properly and show the line nicely. \n",
    "2. Define SSxy and SSxx. \n",
    "3. Try to append sum's into dataframe.\n",
    "4. summarize code below to publish\n",
    "\n",
    "\"\"\"\n",
    "\n",
    "#import sympy as sym\n",
    "#from sympy import Math\n",
    "#from IPython import display,Math"
   ]
  },
  {
   "cell_type": "code",
   "execution_count": 207,
   "metadata": {},
   "outputs": [
    {
     "name": "stdout",
     "output_type": "stream",
     "text": [
      "The least squares regression line is defined by the equation: Y = 1.4285714285714313X + 7.571428571428555\n"
     ]
    }
   ],
   "source": [
    "print('The least squares regression line is defined by the equation: Y = {}X + {}'.format(slope,y_int))"
   ]
  },
  {
   "cell_type": "code",
   "execution_count": 137,
   "metadata": {},
   "outputs": [
    {
     "name": "stdout",
     "output_type": "stream",
     "text": [
      "Y will be -75.02702702702703 if X is 44\n"
     ]
    }
   ],
   "source": [
    "#now to estimate a y value for a given x enter the given x as 'new_x' below\n",
    "#this should probably be made a function\n",
    "if_x = 44\n",
    "new_y = (if_x * slope) + y_int\n",
    "print('Y will be {} if X is {}'.format(new_y,if_x))"
   ]
  },
  {
   "cell_type": "code",
   "execution_count": 130,
   "metadata": {},
   "outputs": [
    {
     "name": "stdout",
     "output_type": "stream",
     "text": [
      "   X      Y  X_SQD     Y_SQD     XY\n",
      "1  1  11.28      1  127.2384  11.28\n",
      "2  2   9.64      4   92.9296  19.28\n",
      "3  3   9.20      9   84.6400  27.60\n",
      "4  4   9.36     16   87.6096  37.44\n",
      "5  5  10.42     25  108.5764  52.10\n",
      "6  6  11.38     36  129.5044  68.28\n",
      "7  7   8.84     49   78.1456  61.88\n",
      "8  8  11.90     64  141.6100  95.20\n",
      "n = 8\n",
      "sum of x = 36\n",
      "sum of y = 82.02000000000001\n",
      "sum of x sqd = 204\n",
      "sum of y sqd = 850.254\n",
      "sum of xy = 373.06\n",
      "r = 0.2004013342289172\n"
     ]
    }
   ],
   "source": [
    "## here is the complete compact calc \n",
    "import numpy as np\n",
    "import pandas as pd\n",
    "\n",
    "data1 = ([1,11.28],[2,9.64],[3,9.2],[4,9.36],[5,10.42],[6,11.38],[7,8.84],[8,11.9])\n",
    "\n",
    "df2 = pd.DataFrame(data1,['1','2','3','4','5','6','7','8'],['X','Y'])\n",
    "\n",
    "df2['X_SQD'] = df2['X']**2\n",
    "df2['Y_SQD'] = df2['Y']**2\n",
    "df2['XY'] = df2['X']*df2['Y']\n",
    "\n",
    "print(df2)\n",
    "\n",
    "n = len(df2['X'])\n",
    "sum_X = sum(df2['X'])\n",
    "sum_Y = sum(df2['Y'])\n",
    "sum_X_SQD = sum(df2['X_SQD'])\n",
    "sum_Y_SQD = sum(df2['Y_SQD'])\n",
    "sum_XY = sum(df2['XY'])\n",
    "\n",
    "print(('n ='),n)\n",
    "print(('sum of x ='),sum_X)\n",
    "print(('sum of y ='),sum_Y)\n",
    "print(('sum of x sqd ='),sum_X_SQD)\n",
    "print(('sum of y sqd ='),sum_Y_SQD)\n",
    "print(('sum of xy ='),sum_XY)\n",
    "\n",
    "numerator = (n*sum_XY) - (sum_X * sum_Y)\n",
    "denominator = np.sqrt(((n * sum_X_SQD) - (sum_X**2))*((n * sum_Y_SQD)- (sum_Y**2)))\n",
    "r = numerator/denominator\n",
    "print('r =',r)\n",
    "\n",
    "\n",
    "\n",
    "\n"
   ]
  },
  {
   "cell_type": "code",
   "execution_count": null,
   "metadata": {},
   "outputs": [],
   "source": []
  }
 ],
 "metadata": {
  "kernelspec": {
   "display_name": "Python 3",
   "language": "python",
   "name": "python3"
  },
  "language_info": {
   "codemirror_mode": {
    "name": "ipython",
    "version": 3
   },
   "file_extension": ".py",
   "mimetype": "text/x-python",
   "name": "python",
   "nbconvert_exporter": "python",
   "pygments_lexer": "ipython3",
   "version": "3.7.6"
  }
 },
 "nbformat": 4,
 "nbformat_minor": 4
}
